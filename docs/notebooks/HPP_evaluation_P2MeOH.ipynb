{
 "cells": [
  {
   "cell_type": "markdown",
   "metadata": {},
   "source": [
    "\n",
    "## Evaluating the performance of a hybrid power plant with P2MeOH using HyDesign\n",
    "\n",
    "In this notebook we will evaluate a hybrid power plant design in a specific location.\n",
    "\n",
    "A hybrid power plant design consists on selecting the following parameters:\n",
    "\n",
    "**Wind Plant design:**\n",
    "\n",
    "1. Number of wind turbines in the wind plant [-] (`Nwt`)\n",
    "2. Wind power installation density [MW/km2] (`wind_MW_per_km2`): This parameter controls how closely spaced are the turbines, which in turns affect how much wake losses are present.\n",
    "\n",
    "**PV Plant design:**\n",
    "\n",
    "3. Solar plant power capacity [MW] (`solar_MW`)\n",
    "\n",
    "**Battery Storage design:**\n",
    "\n",
    "4. Battery power [MW] (`b_P`)\n",
    "5. Battery energy capacity in hours [MWh] (`b_E_h `): Battery storage capacity in hours of full battery power (`b_E = b_E_h * b_P `). \n",
    "6. Cost of battery power fluctuations in peak price ratio [-] (`cost_of_batt_degr`): This parameter controls how much penalty is given to do ramps in battery power in the HPP operation.\n",
    "\n",
    "**Electrolyzer design:**\n",
    "\n",
    "7. SOEC capacity [MW] (`P_SOEC_MW`)\n",
    "\n",
    "**Heater design:**\n",
    "\n",
    "8. Heater capacity [MW] (`P_heater_MW`)\n",
    "\n",
    "**DAC design:**\n",
    "\n",
    "9. DAC capacity [MW] (`P_DAC_MW`)\n",
    "\n",
    "**Reactor design:**\n",
    "\n",
    "10. Reactor capacity [MW] (`P_reactor_MW`)\n",
    "\n",
    "**Electrolyzer design:**\n",
    "\n",
    "11. MeOH tank capacity [MW] (`m_MeOH_tank_max_kg`)"
   ]
  },
  {
   "cell_type": "markdown",
   "metadata": {},
   "source": [
    "##\n",
    "**Imports**\n",
    "\n",
    "Install hydesign if needed.\n",
    "Import basic libraries. \n",
    "Import HPP model assembly class.\n",
    "Import the examples file path."
   ]
  },
  {
   "cell_type": "code",
   "execution_count": null,
   "metadata": {},
   "outputs": [],
   "source": [
    "# Install hydesign if needed\n",
    "import importlib\n",
    "if not importlib.util.find_spec(\"hydesign\"):\n",
    "    !pip install git+https://gitlab.windenergy.dtu.dk/TOPFARM/hydesign.git   "
   ]
  },
  {
   "cell_type": "code",
   "execution_count": null,
   "metadata": {},
   "outputs": [],
   "source": [
    "import os\n",
    "import time\n",
    "import yaml\n",
    "import numpy as np\n",
    "import pandas as pd\n",
    "import matplotlib.pyplot as plt\n",
    "\n",
    "from hydesign.assembly.hpp_assembly_P2MeOH_bidirectional import hpp_model_P2MeOH_bidirectional as hpp_model\n",
    "\n",
    "from hydesign.examples import examples_filepath"
   ]
  },
  {
   "cell_type": "markdown",
   "metadata": {},
   "source": [
    "##\n",
    "**Specifying the site**\n",
    "\n",
    "Hydesign, provides example data from several sites in India and Europe. \n",
    "\n",
    "The site coordinates (longitude, latitude, and altitude) are given in `examples_sites.csv`."
   ]
  },
  {
   "cell_type": "code",
   "execution_count": null,
   "metadata": {
    "tags": []
   },
   "outputs": [],
   "source": [
    "examples_sites = pd.read_csv(f'{examples_filepath}examples_sites.csv', index_col=0, sep=';')\n",
    "examples_sites"
   ]
  },
  {
   "cell_type": "markdown",
   "metadata": {},
   "source": [
    "##\n",
    "**Select a site to run**"
   ]
  },
  {
   "cell_type": "code",
   "execution_count": null,
   "metadata": {
    "tags": []
   },
   "outputs": [],
   "source": [
    "name = \"France_good_wind_MeOH\"\n",
    "\n",
    "ex_site = examples_sites.loc[examples_sites.name == name]\n",
    "\n",
    "longitude = ex_site['longitude'].values[0]\n",
    "latitude = ex_site['latitude'].values[0]\n",
    "altitude = ex_site['altitude'].values[0]"
   ]
  },
  {
   "cell_type": "code",
   "execution_count": null,
   "metadata": {
    "tags": []
   },
   "outputs": [],
   "source": [
    "# Weather data and Price data\n",
    "input_ts_fn = examples_filepath+ex_site['input_ts_fn'].values[0]\n",
    "\n",
    "input_ts = pd.read_csv(input_ts_fn, index_col=0, parse_dates=True)\n",
    "\n",
    "required_cols = [col for col in input_ts.columns if 'WD' not in col]\n",
    "input_ts = input_ts.loc[:,required_cols]\n",
    "input_ts"
   ]
  },
  {
   "cell_type": "code",
   "execution_count": null,
   "metadata": {},
   "outputs": [],
   "source": [
    "# Input data of technology's cost\n",
    "sim_pars_fn = examples_filepath+ex_site['sim_pars_MeOH_fn'].values[0]\n",
    "\n",
    "with open(sim_pars_fn) as file:\n",
    "    sim_pars = yaml.load(file, Loader=yaml.FullLoader)\n",
    "\n",
    "print(sim_pars_fn)    \n",
    "sim_pars"
   ]
  },
  {
   "cell_type": "code",
   "execution_count": null,
   "metadata": {
    "tags": []
   },
   "outputs": [],
   "source": [
    "# MeOH demand data\n",
    "MeOH_demand_fn = examples_filepath + \"Europe/MeOH_demand.csv\"\n",
    "\n",
    "MeOH_demand_ts = pd.read_csv(MeOH_demand_fn, index_col=0, parse_dates=True)\n",
    "if sim_pars['MeOH_demand_scheme'] == \"fixed\":\n",
    "    print(MeOH_demand_ts)\n",
    "if sim_pars['MeOH_demand_scheme'] == \"infinite\":\n",
    "    print(\"Methanol demand is infinite\")"
   ]
  },
  {
   "cell_type": "markdown",
   "metadata": {},
   "source": [
    "## \n",
    "**Initializing the HPP model**\n",
    "\n",
    "Initialize the HPP model (hpp_model class) with the coordinates and the necessary input files."
   ]
  },
  {
   "cell_type": "code",
   "execution_count": null,
   "metadata": {
    "tags": []
   },
   "outputs": [],
   "source": [
    "hpp = hpp_model(\n",
    "        latitude=latitude,\n",
    "        longitude=longitude,\n",
    "        altitude=altitude,\n",
    "        num_batteries = 3,\n",
    "        work_dir = './',\n",
    "        sim_pars_fn = sim_pars_fn,\n",
    "        input_ts_fn = input_ts_fn,\n",
    "        MeOH_demand_fn = MeOH_demand_fn,\n",
    ")"
   ]
  },
  {
   "cell_type": "markdown",
   "metadata": {},
   "source": [
    "##\n",
    "### Evaluating the HPP model"
   ]
  },
  {
   "cell_type": "code",
   "execution_count": null,
   "metadata": {
    "tags": []
   },
   "outputs": [],
   "source": [
    "start = time.time()\n",
    "\n",
    "clearance = 10\n",
    "sp = 303\n",
    "p_rated = 5        \n",
    "Nwt = 48\n",
    "wind_MW_per_km2 = 3\n",
    "solar_MW = 80\n",
    "surface_tilt = 50\n",
    "surface_azimuth = 210\n",
    "DC_AC_ratio = 1.5\n",
    "P_batt_MW = 50\n",
    "b_E_h = 3\n",
    "cost_of_battery_P_fluct_in_peak_price_ratio = 5\n",
    "P_SOEC_MW = 100\n",
    "# P_heater_MW = 0\n",
    "# P_DAC_MW = 5.6\n",
    "# P_reactor_MW = 7.3\n",
    "m_MeOH_tank_max_kg = 1800000\n",
    "\n",
    "x = [clearance, sp, p_rated, Nwt, wind_MW_per_km2, solar_MW, \\\n",
    "        surface_tilt, surface_azimuth, DC_AC_ratio, P_batt_MW, b_E_h , cost_of_battery_P_fluct_in_peak_price_ratio, \\\n",
    "        P_SOEC_MW, m_MeOH_tank_max_kg]\n",
    "\n",
    "output_names = [\n",
    "    'NPV_over_CAPEX', 'NPV', 'IRR', 'LCOE', 'LCOgreenMeOH', 'LCOgridMeOH', \n",
    "    'Revenue', 'CAPEX', 'OPEX', 'penalty lifetime', 'mean_AEP', 'mean_Power2Grid', \n",
    "    'GUF', 'annual_green_MeOH', 'annual_grid_MeOH', 'annual_P_SOEC_green', \n",
    "    'annual_P_purch_grid', 'hpp_grid_connection', 'wind_MW', 'solar_MW', \n",
    "    'P_SOEC_MW', 'P_DAC_MW', 'P_reactor_MW', 'm_MeOH_tank_max_kg', \n",
    "    'E_batt_MWh_t', 'P_batt_MW', 'total_curtailment', 'Awpp', 'Apvp', 'd', \n",
    "    'hh', 'break_even_PPA_price', 'break_even_green_MeOH_price', 'cf_wind'\n",
    "]\n",
    "\n",
    "outs = hpp.evaluate(*x)\n",
    "\n",
    "df = pd.DataFrame({name: [val] for name, val in zip(output_names, outs)})\n",
    "\n",
    "# output_file = \"outputs.xlsx\"\n",
    "\n",
    "# df.to_excel(output_file, index=False)\n",
    "\n",
    "hpp.print_design()\n",
    "\n",
    "end = time.time()\n",
    "print(f'exec. time [min]:', (end - start)/60 )\n",
    "\n",
    "# print(f\"Results saved to {output_file}\")"
   ]
  },
  {
   "cell_type": "markdown",
   "metadata": {},
   "source": [
    "###\n",
    "### Plot economic and technical indicators"
   ]
  },
  {
   "cell_type": "code",
   "execution_count": null,
   "metadata": {},
   "outputs": [],
   "source": [
    "annual_green_MeOH = df['annual_green_MeOH'][0] \n",
    "annual_grid_MeOH = df['annual_grid_MeOH'][0]   \n",
    "\n",
    "categories = ['Annual Grid MeOH', 'Annual Green MeOH']\n",
    "values = [annual_grid_MeOH, annual_green_MeOH]\n",
    "\n",
    "plt.figure(figsize=(8, 5))\n",
    "plt.bar(categories, values, color=['skyblue', 'green'], alpha=0.8)\n",
    "plt.title('Comparison of Annual Grid and Green Methanol Distribution', fontsize=14)\n",
    "plt.ylabel('Distribution (tons)', fontsize=12)\n",
    "plt.xticks(fontsize=12)\n",
    "plt.yticks(fontsize=12)\n",
    "plt.grid(axis='y', linestyle='--', alpha=0.7)\n",
    "\n",
    "plt.tight_layout()\n",
    "plt.show()"
   ]
  },
  {
   "cell_type": "markdown",
   "metadata": {
    "tags": []
   },
   "source": [
    "##\n",
    "### Plot the HPP operation"
   ]
  },
  {
   "cell_type": "code",
   "execution_count": null,
   "metadata": {
    "tags": []
   },
   "outputs": [],
   "source": [
    "E_SOC_t = hpp.prob.get_val('ems_P2MeOH_bidirectional.E_SOC_t')\n",
    "P_charge_discharge_t = hpp.prob.get_val('ems_P2MeOH_bidirectional.P_charge_discharge_t')\n",
    "elec_spot_price_t_ext = hpp.prob.get_val('ems_P2MeOH_bidirectional.elec_spot_price_t_ext')\n",
    "elec_grid_price_t_ext = hpp.prob.get_val('ems_P2MeOH_bidirectional.elec_grid_price_t_ext')\n",
    "\n",
    "wind_t_ext = hpp.prob.get_val('ems_P2MeOH_bidirectional.wind_t_ext')\n",
    "solar_t_ext = hpp.prob.get_val('ems_P2MeOH_bidirectional.solar_t_ext')\n",
    "P_HPP_t = hpp.prob.get_val('ems_P2MeOH_bidirectional.P_HPP_t')\n",
    "P_curtailment_t = hpp.prob.get_val('ems_P2MeOH_bidirectional.P_curtailment_t')\n",
    "P_SOEC_green_t = hpp.prob.get_val('ems_P2MeOH_bidirectional.P_SOEC_green_t')\n",
    "P_SOEC_grid_t = hpp.prob.get_val('ems_P2MeOH_bidirectional.P_SOEC_grid_t')\n",
    "hpp_grid_connection = hpp.prob.get_val('ems_P2MeOH_bidirectional.hpp_grid_connection')\n",
    "\n",
    "m_green_MeOH_reactor_t = hpp.prob.get_val('ems_P2MeOH_bidirectional.m_green_MeOH_reactor_t')\n",
    "m_MeOH_demand_t_ext = hpp.prob.get_val('ems_P2MeOH_bidirectional.m_MeOH_demand_t_ext')\n",
    "m_grid_MeOH_reactor_t = hpp.prob.get_val('ems_P2MeOH_bidirectional.m_grid_MeOH_reactor_t')\n",
    "m_MeOH_tank_t = hpp.prob.get_val('ems_P2MeOH_bidirectional.m_MeOH_tank_t')\n",
    "\n",
    "n_days_plot = 14\n",
    "plt.figure(figsize=[12,4])\n",
    "plt.plot(elec_spot_price_t_ext[:24*n_days_plot], label='spot market price of electricity [Euro/MWh]')\n",
    "\n",
    "constant_price = elec_grid_price_t_ext[0] \n",
    "plt.plot(elec_grid_price_t_ext[:24*n_days_plot], label='cost of purchased electricity [Euro/MWh]')\n",
    "plt.text(len(elec_grid_price_t_ext[:24*n_days_plot]) / 2, constant_price, \n",
    "         f\"{constant_price:.2f} Euro/MWh\", \n",
    "         fontsize=12, color=\"red\", ha=\"center\", va=\"bottom\")\n",
    "\n",
    "plt.plot(E_SOC_t[:24*n_days_plot], label='SoC [MWh]')\n",
    "plt.plot(P_charge_discharge_t[:24*n_days_plot], label='Battery P [MW]')\n",
    "plt.xlabel('time [hours]')\n",
    "plt.legend(loc='upper center', bbox_to_anchor=(0.5, 1.15),\n",
    "           ncol=3, fancybox=0, shadow=0)\n",
    "\n",
    "plt.figure(figsize=[12,4])\n",
    "plt.plot(wind_t_ext[:24*n_days_plot], label='wind')\n",
    "plt.plot(solar_t_ext[:24*n_days_plot], label='PV')\n",
    "plt.plot(P_HPP_t[:24*n_days_plot], label='HPP')\n",
    "plt.plot(P_curtailment_t[:24*n_days_plot], label='HPP curtailed')\n",
    "plt.plot(P_charge_discharge_t[:24*n_days_plot], label='Battery P [MW]')\n",
    "plt.plot(P_SOEC_green_t[:24*n_days_plot], label='Green power to SOEC')\n",
    "plt.plot(P_SOEC_grid_t[:24*n_days_plot], label='Grid power to SOEC')\n",
    "plt.axhline(hpp_grid_connection, label='Grid MW', color='k')\n",
    "plt.xlabel('time [hours]')\n",
    "plt.ylabel('Power [MW]')\n",
    "plt.legend(loc='upper center', bbox_to_anchor=(0.5, 1.15),\n",
    "           ncol=7, fancybox=0, shadow=0)\n"
   ]
  },
  {
   "cell_type": "code",
   "execution_count": null,
   "metadata": {},
   "outputs": [],
   "source": [
    "results = {'Wind': wind_t_ext[:8760], 'PV': solar_t_ext[:8760], 'HPP': P_HPP_t[:8760], 'Curtailment': P_curtailment_t[:8760],\\\n",
    "                    'Battery power': P_charge_discharge_t[:8760], 'Energy Level': E_SOC_t[:8760], 'Electricity Spot Market Prices': elec_spot_price_t_ext[:8760],\\\n",
    "                    'Cost of Purchased Electricity':elec_grid_price_t_ext[:8760], 'P_SOEC_green_t': P_SOEC_green_t[:8760], 'P_SOEC_grid_t': P_SOEC_grid_t[:8760],\\\n",
    "                    'm_green_MeOH_reactor_t': m_green_MeOH_reactor_t[:8760], 'm_grid_MeOH_reactor_t': m_grid_MeOH_reactor_t[:8760], 'm_MeOH_tank_t': m_MeOH_tank_t[:8760]}\n",
    "df = pd.DataFrame(results)\n",
    "df.to_csv('EMS_out_P2MeOH.csv')"
   ]
  },
  {
   "cell_type": "code",
   "execution_count": null,
   "metadata": {},
   "outputs": [],
   "source": [
    "\n",
    "plt.figure(figsize=[12,4])\n",
    "plt.plot(m_green_MeOH_reactor_t[:24*n_days_plot], label='Green MeOH produced')\n",
    "plt.plot(m_grid_MeOH_reactor_t[:24*n_days_plot], label='Grid MeOH produced')\n",
    "plt.plot(m_MeOH_demand_t_ext[:24*n_days_plot], label='MeOH demand')\n",
    "plt.plot(m_MeOH_tank_t[:24*n_days_plot], label='LoS')\n",
    "plt.xlabel('time [hours]')\n",
    "plt.ylabel('Methanol [kg]')\n",
    "plt.legend(loc='upper center', bbox_to_anchor=(0.5, 1.15),\n",
    "           ncol=5, fancybox=0, shadow=0)"
   ]
  }
 ],
 "metadata": {
  "language_info": {
   "codemirror_mode": {
    "name": "ipython",
    "version": 3
   },
   "file_extension": ".py",
   "mimetype": "text/x-python",
   "name": "python",
   "nbconvert_exporter": "python",
   "pygments_lexer": "ipython3"
  }
 },
 "nbformat": 4,
 "nbformat_minor": 4
}
