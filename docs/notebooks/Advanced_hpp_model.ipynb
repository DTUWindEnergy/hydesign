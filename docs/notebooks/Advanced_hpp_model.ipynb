{
 "cells": [
  {
   "cell_type": "markdown",
   "metadata": {},
   "source": [
    "# Advanced HPP Model\n",
    "\n",
    "## Evaluating the performance of a hybrid power plant using HyDesign\n",
    "\n",
    "HyDesign is an open-source tool for design and optimization of utility scale wind-solar-storage based hybrid power plants.\n",
    "\n",
    "In this notebook we will evaluate a hybrid power plant design in a specific location.\n",
    "\n",
    "A hybrid power plant design consists on selecting the following parameters:\n",
    "\n",
    "**Wind Turbine design:**\n",
    "\n",
    "1. Clearance [m] (`clearance`): Height from the ground to rotor tip at lowest posstion. This parameter controls the wind turbine hub height given a rotor radius: `clearance =  HH - R`. \n",
    "2. Specific power of the wind turbine [MW/m2] (`sp`): Defined as `sp = p_rated / ( pi * R^2 )`, it controls the turbine rotor size for a given rated power. Turbines with lower specific power produce more power at lower wind speeds, but are more expensive.\n",
    "3. Rated power of the wind turbine [MW] (`p_rated`)\n",
    "\n",
    "**Wind Plant design:**\n",
    "\n",
    "4. Number of wind turbines in the wind plant [-] (`Nwt`)\n",
    "5. Wind power installation density [MW/km2] (`wind_MW_per_km2`): This parameter controls how closely spaced are the turbines, which in turns affect how much wake losses are present.\n",
    "\n",
    "**PV Plant design:**\n",
    "\n",
    "6. Solar plant power capacity [MW] (`solar_MW`)\n",
    "7. Surface tilt [deg] (`surface_tilt`)\n",
    "8. Surface azimuth [deg] (`surface_azimuth`)\n",
    "9. DC-AC ratio [-] (`solar_DCAC`): This parameter controls how much over-planting of PV (in DC power) is connected to the inverters. It is common practice in PV design to have `solar_DCAC = 1.5`. \n",
    "\n",
    "**Battery Storage design:**\n",
    "\n",
    "10. Battery power [MW] (`b_P`)\n",
    "11. Battery energy capacity in hours [MWh] (`b_E_h `): Battery storage capacity in hours of full battery power (`b_E = b_E_h * b_P `). \n",
    "12. Cost of battery power fluctuations in peak price ratio [-] (`cost_of_batt_degr`): This parameter controls how much penalty is given to do ramps in battery power in the HPP operation.\n"
   ]
  },
  {
   "cell_type": "markdown",
   "metadata": {},
   "source": [
    "##\n",
    "**Imports**\n",
    "\n",
    "Install hydesign if needed.\n",
    "Import basic libraries. \n",
    "Import HPP model assembly class.\n",
    "Import the examples file path."
   ]
  },
  {
   "cell_type": "code",
   "execution_count": null,
   "metadata": {},
   "outputs": [],
   "source": [
    "# Install hydesign if needed\n",
    "import importlib\n",
    "if not importlib.util.find_spec(\"hydesign\"):\n",
    "    !pip install git+https://gitlab.windenergy.dtu.dk/TOPFARM/hydesign.git    "
   ]
  },
  {
   "cell_type": "code",
   "execution_count": null,
   "metadata": {},
   "outputs": [],
   "source": [
    "import os\n",
    "import time\n",
    "import yaml\n",
    "import numpy as np\n",
    "import pandas as pd\n",
    "import matplotlib.pyplot as plt\n",
    "\n",
    "from hydesign.assembly.hpp_assembly import hpp_model\n",
    "from hydesign.examples import examples_filepath"
   ]
  },
  {
   "cell_type": "markdown",
   "metadata": {},
   "source": [
    "##\n",
    "**Specifying the site**\n",
    "\n",
    "Hydesign, provides example data from several sites in India and Europe. \n",
    "\n",
    "The site coordinates (longitude, latitude, and altitude) are given in `examples_sites.csv`."
   ]
  },
  {
   "cell_type": "code",
   "execution_count": null,
   "metadata": {},
   "outputs": [],
   "source": [
    "examples_sites = pd.read_csv(f'{examples_filepath}examples_sites.csv', index_col=0, sep=';')\n",
    "examples_sites"
   ]
  },
  {
   "cell_type": "code",
   "execution_count": null,
   "metadata": {},
   "outputs": [],
   "source": [
    "name = 'Denmark_good_wind'\n",
    "ex_site = examples_sites.loc[examples_sites.name == name]\n",
    "\n",
    "longitude = ex_site['longitude'].values[0]\n",
    "latitude = ex_site['latitude'].values[0]\n",
    "altitude = ex_site['altitude'].values[0]\n",
    "\n",
    "input_ts_fn = examples_filepath+ex_site['input_ts_fn'].values[0]\n",
    "sim_pars_fn = examples_filepath+ex_site['sim_pars_fn'].values[0]\n"
   ]
  },
  {
   "cell_type": "markdown",
   "metadata": {},
   "source": [
    "## \n",
    "**Initializing the HPP model**\n",
    "\n",
    "Initialize the HPP model (hpp_model class) with the coordinates and the necessary input files."
   ]
  },
  {
   "cell_type": "code",
   "execution_count": null,
   "metadata": {},
   "outputs": [],
   "source": [
    "hpp = hpp_model(\n",
    "        latitude=latitude,\n",
    "        longitude=longitude,\n",
    "        altitude=altitude,\n",
    "        num_batteries = 5,\n",
    "        work_dir = './',\n",
    "        sim_pars_fn = sim_pars_fn,\n",
    "        input_ts_fn = input_ts_fn,\n",
    ")"
   ]
  },
  {
   "cell_type": "markdown",
   "metadata": {},
   "source": [
    "##\n",
    "### Evaluating the HPP model"
   ]
  },
  {
   "cell_type": "code",
   "execution_count": null,
   "metadata": {},
   "outputs": [],
   "source": [
    "start = time.time()\n",
    "\n",
    "clearance = 10\n",
    "sp = 350\n",
    "p_rated = 5\n",
    "Nwt = 70\n",
    "wind_MW_per_km2 = 7\n",
    "solar_MW = 100\n",
    "surface_tilt = 50\n",
    "surface_azimuth = 180\n",
    "solar_DCAC = 1.5\n",
    "b_P = 50\n",
    "b_E_h  = 3\n",
    "cost_of_batt_degr = 10\n",
    "\n",
    "x = [clearance, sp, p_rated, Nwt, wind_MW_per_km2, \\\n",
    "solar_MW, surface_tilt, surface_azimuth, solar_DCAC, \\\n",
    "b_P, b_E_h , cost_of_batt_degr]\n",
    "\n",
    "outs = hpp.evaluate(*x)\n",
    "\n",
    "hpp.print_design()\n",
    "\n",
    "end = time.time()\n",
    "print(f'exec. time [min]:', (end - start)/60 )"
   ]
  },
  {
   "cell_type": "code",
   "execution_count": null,
   "metadata": {},
   "outputs": [],
   "source": [
    "b_E_SOC_t = hpp.prob.get_val('ems.b_E_SOC_t')\n",
    "b_t = hpp.prob.get_val('ems.b_t')\n",
    "price_t = hpp.prob.get_val('ems.price_t')\n",
    "\n",
    "wind_t = hpp.prob.get_val('ems.wind_t')\n",
    "solar_t = hpp.prob.get_val('ems.solar_t')\n",
    "hpp_t = hpp.prob.get_val('ems.hpp_t')\n",
    "hpp_curt_t = hpp.prob.get_val('ems.hpp_curt_t')\n",
    "grid_MW = hpp.prob.get_val('ems.G_MW')\n",
    "\n",
    "n_days_plot = 14\n",
    "plt.figure(figsize=[12,4])\n",
    "plt.plot(price_t[:24*n_days_plot], label='price')\n",
    "plt.plot(b_E_SOC_t[:24*n_days_plot], label='SoC [MWh]')\n",
    "plt.plot(b_t[:24*n_days_plot], label='Battery P [MW]')\n",
    "plt.xlabel('time [hours]')\n",
    "plt.legend(loc='upper center', bbox_to_anchor=(0.5, 1.15),\n",
    "           ncol=3, fancybox=0, shadow=0)\n",
    "\n",
    "plt.figure(figsize=[12,4])\n",
    "plt.plot(wind_t[:24*n_days_plot], label='wind')\n",
    "plt.plot(solar_t[:24*n_days_plot], label='PV')\n",
    "plt.plot(hpp_t[:24*n_days_plot], label='HPP')\n",
    "plt.plot(hpp_curt_t[:24*n_days_plot], label='HPP curtailed')\n",
    "plt.axhline(grid_MW, label='Grid MW', color='k')\n",
    "plt.xlabel('time [hours]')\n",
    "plt.ylabel('Power [MW]')\n",
    "plt.legend(loc='upper center', bbox_to_anchor=(0.5, 1.15),\n",
    "           ncol=5, fancybox=0, shadow=0)"
   ]
  },
  {
   "cell_type": "code",
   "execution_count": null,
   "metadata": {},
   "outputs": [],
   "source": [
    "results_1year = {'Electricity Price':price_t[:8760], 'Wind Power': wind_t[:8760],'Solar Power': solar_t[:8760],'HPP Power': hpp_t[:8760],'Curtailed Power': hpp_curt_t[:8760] ,'Battery SOC': b_E_SOC_t[:8760],'Battery Power': b_t[:8760]}\n",
    "df = pd.DataFrame(results_1year)\n",
    "df.to_csv('EMS_out.csv')"
   ]
  },
  {
   "cell_type": "code",
   "execution_count": null,
   "metadata": {},
   "outputs": [],
   "source": [
    "design_df = hpp.evaluation_in_df()\n",
    "design_df.to_csv('output.csv')"
   ]
  }
 ],
 "metadata": {
  "language_info": {
   "codemirror_mode": {
    "name": "ipython",
    "version": 3
   },
   "file_extension": ".py",
   "mimetype": "text/x-python",
   "name": "python",
   "nbconvert_exporter": "python",
   "pygments_lexer": "ipython3"
  }
 },
 "nbformat": 4,
 "nbformat_minor": 4
}
