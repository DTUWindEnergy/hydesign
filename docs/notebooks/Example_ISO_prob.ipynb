{
 "cells": [
  {
   "cell_type": "markdown",
   "metadata": {},
   "source": [
    "# How to use iso-probabilistic transformations to obtain weather-corrleated spot markets with a desired distribution"
   ]
  },
  {
   "cell_type": "code",
   "execution_count": 5,
   "metadata": {},
   "outputs": [],
   "source": [
    "import numpy as np\n",
    "from numpy import newaxis as na\n",
    "import pandas as pd\n",
    "import scipy\n",
    "from statsmodels.distributions.empirical_distribution import ECDF, monotone_fn_inverter\n",
    "from hydesign.weather import isoprob_transfrom\n",
    "from hydesign.examples import examples_filepath"
   ]
  },
  {
   "cell_type": "code",
   "execution_count": null,
   "metadata": {},
   "outputs": [],
   "source": [
    "inputs = pd.read_csv(examples_filepath+'Europe/GWA2/input_ts_Denmark_good_solar.csv',\n",
    "                    index_col=0, parse_dates = True)\n",
    "inputs"
   ]
  },
  {
   "cell_type": "markdown",
   "metadata": {},
   "source": [
    "## 1. Sample a target distrubtion, the number of samples can be different between input data and desired distribution"
   ]
  },
  {
   "cell_type": "code",
   "execution_count": null,
   "metadata": {},
   "outputs": [],
   "source": [
    "#y_desired = np.random.normal(size=int(1e6)) * 5 + 35\n",
    "\n",
    "y_desired = np.random.weibull(a=2, size=int(1e6)) * 25 + 18"
   ]
  },
  {
   "cell_type": "code",
   "execution_count": null,
   "metadata": {},
   "outputs": [],
   "source": [
    "y_ISO = isoprob_transfrom(y_input=inputs.Price.values, y_desired=y_desired)"
   ]
  },
  {
   "cell_type": "code",
   "execution_count": null,
   "metadata": {},
   "outputs": [],
   "source": [
    "from matplotlib import pyplot as plt"
   ]
  },
  {
   "cell_type": "code",
   "execution_count": null,
   "metadata": {},
   "outputs": [],
   "source": [
    "inputs.Price.hist(bins=100, histtype='step', density=True, label = 'SM input')\n",
    "plt.hist(y_desired,bins=100, histtype='step', density=True, label = 'Desired PDF')\n",
    "plt.hist(y_ISO,bins=100, histtype='step', density=True, label = 'SM ISO transformed')\n",
    "plt.xlabel('SM [EUR/MW.h]')\n",
    "plt.ylabel('PDF(SM)')\n",
    "plt.legend()\n",
    "print()"
   ]
  },
  {
   "cell_type": "code",
   "execution_count": null,
   "metadata": {},
   "outputs": [],
   "source": [
    "inputs['SM_ISO'] = y_ISO"
   ]
  },
  {
   "cell_type": "code",
   "execution_count": null,
   "metadata": {},
   "outputs": [],
   "source": [
    "inputs.loc[:,['Price','SM_ISO']].describe()"
   ]
  },
  {
   "cell_type": "code",
   "execution_count": null,
   "metadata": {},
   "outputs": [],
   "source": [
    "inputs.Price.plot(label = 'SM input')\n",
    "inputs.SM_ISO.plot(alpha=0.5, label = 'SM ISO transformed')\n",
    "plt.ylabel('SM [EUR/MW.h]')\n",
    "plt.xlabel('time')\n",
    "plt.legend()\n",
    "print()"
   ]
  },
  {
   "cell_type": "code",
   "execution_count": null,
   "metadata": {},
   "outputs": [],
   "source": [
    "inputs.loc[:,['WS_100','Price','SM_ISO']].corr()"
   ]
  },
  {
   "cell_type": "code",
   "execution_count": 6,
   "metadata": {},
   "outputs": [],
   "source": [
    "inputs['ws_bin'] = pd.cut(inputs.WS_100, bins=np.arange(0,20,1))\n",
    "\n",
    "inputs_grp = inputs.groupby('ws_bin').mean()"
   ]
  },
  {
   "cell_type": "code",
   "execution_count": 172,
   "metadata": {},
   "outputs": [
    {
     "name": "stdout",
     "output_type": "stream",
     "text": [
      "\n"
     ]
    },
    {
     "data": {
      "image/png": "[encoded data removed]",
      "text/plain": [
       "<Figure size 432x288 with 1 Axes>"
      ]
     },
     "metadata": {
      "needs_background": "light"
     },
     "output_type": "display_data"
    }
   ],
   "source": [
    "\n",
    "plt.plot(inputs_grp.WS_100, inputs_grp.Price, label = 'SM input')\n",
    "plt.plot(inputs_grp.WS_100, inputs_grp.SM_ISO, label = 'SM ISO transformed')\n",
    "plt.legend()\n",
    "\n",
    "plt.ylabel(r'E(SM|WS_10) [EUR/MW.h]')\n",
    "plt.xlabel('WS_10 [m/s]')\n",
    "\n",
    "print()"
   ]
  },
  {
   "cell_type": "code",
   "execution_count": null,
   "metadata": {},
   "outputs": [],
   "source": [
    "import scipy.stats as st\n",
    "def kde_plot(\n",
    "    x,y,\n",
    "    ax,\n",
    "    c='k',\n",
    "    levels = [1e-5, 5e-5, 1e-4, 5e-4],\n",
    "    fmt = '%1.0e',\n",
    "    label = None\n",
    "    ):\n",
    "    xmin = np.min(x) \n",
    "    xmax = np.max(x)\n",
    "    ymin = np.min(y) \n",
    "    ymax = np.max(y)\n",
    "\n",
    "    # Peform the kernel density estimate\n",
    "    xx, yy = np.mgrid[xmin:xmax:100j, ymin:ymax:100j]\n",
    "    positions = np.vstack([xx.ravel(), yy.ravel()])\n",
    "    values = np.vstack([x, y])\n",
    "    kernel = st.gaussian_kde(values)\n",
    "    f = np.reshape(kernel(positions).T, xx.shape)\n",
    "\n",
    "    ax.set_xlim(xmin, xmax)\n",
    "    ax.set_ylim(ymin, ymax)\n",
    "    \n",
    "    # Contour plot\n",
    "    cset = ax.contour(xx, yy, f, levels=levels, colors=c)\n",
    "    if label != None:\n",
    "        cset.collections[0].set_label(label) \n",
    "    # iso-prob labels on lines\n",
    "    ax.clabel(cset, inline=1, fontsize=10, fmt = fmt)\n",
    "    "
   ]
  },
  {
   "cell_type": "code",
   "execution_count": null,
   "metadata": {},
   "outputs": [],
   "source": [
    "fig = plt.figure()\n",
    "ax = fig.add_subplot(111)\n",
    "kde_plot(x=inputs.WS_100, y=inputs.Price, ax=ax, levels = [1e-5, 1e-4, 1e-3], c='C0', label='SM ISO transformed')\n",
    "kde_plot(x=inputs.WS_100, y=inputs.SM_ISO, ax=ax, levels = [1e-5, 1e-4, 1e-3], c='C1', label='SM input')\n",
    "plt.legend()\n",
    "plt.title('Iso probability countours')\n",
    "plt.ylabel('SM [EUR/MW.h]')\n",
    "plt.xlabel('WS_10 [m/s]')    "
   ]
  }
 ],
 "metadata": {
  "kernelspec": {
   "display_name": "Python 3",
   "language": "python",
   "name": "python3"
  },
  "language_info": {
   "codemirror_mode": {
    "name": "ipython",
    "version": 3
   },
   "file_extension": ".py",
   "mimetype": "text/x-python",
   "name": "python",
   "nbconvert_exporter": "python",
   "pygments_lexer": "ipython3",
   "version": "3.6.11"
  }
 },
 "nbformat": 4,
 "nbformat_minor": 4
}
