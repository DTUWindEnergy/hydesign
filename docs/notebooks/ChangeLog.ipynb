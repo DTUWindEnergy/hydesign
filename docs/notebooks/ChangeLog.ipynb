{
 "cells": [
  {
   "attachments": {},
   "cell_type": "markdown",
   "metadata": {},
   "source": [
    "# Updates log"
   ]
  },
  {
   "attachments": {},
   "cell_type": "markdown",
   "metadata": {},
   "source": [
    "## hydesign v1.1.0 (May 5, 2023)\n",
    "\n",
    "### New Features and API changes\n",
    "- New power to X functionality\n",
    "- Improved Efficient Global Optimization Algorithm for sizing\n",
    "- More flexible input to sizing optimization\n",
    "- Electrolyzer size added as a design variable in the sizing optimization\n",
    "- Exercise notebooks in the documentation\n",
    "\n",
    "\n",
    "### New models and functions\n",
    "- EGO algorithm\n",
    "  - A more efficient design space search `EfficientGlobalOptimizationDriver`\n",
    "  - More information on how the search was done\n",
    "- Energy management system optimization with P2X\n",
    "  - New EMS CPLEX function `ems_cplex_P2X`, with additional inputs inluding price of Hydrogen `price_H2`, electrolyzer power capacity `ptg_MW`,\n",
    "  compressor efficiency for hydrogen storage `storage_eff`, electrolyzer annual rate of degradation `ptg_deg`,  high heat value `hhv`\n",
    "- Flexible input and modification of sizing problem\n",
    "  - Ability to give design variables of choice a fixed value in the sizing optimization\n",
    "  - Specifying the design variables in the upper layer of the code\n",
    "\n",
    "- P2X sizing added to the sizing optimization `Parallel_EGO_P2X.py`\n",
    " - The following design variables were added: electrolyzer power capacity `ptg_MW` "
   ]
  }
 ],
 "metadata": {
  "kernelspec": {
   "display_name": "Python 3 (ipykernel)",
   "language": "python",
   "name": "python3"
  },
  "language_info": {
   "codemirror_mode": {
    "name": "ipython",
    "version": 3
   },
   "file_extension": ".py",
   "mimetype": "text/x-python",
   "name": "python",
   "nbconvert_exporter": "python",
   "pygments_lexer": "ipython3",
   "version": "3.9.13"
  },
  "toc": {
   "base_numbering": 1,
   "nav_menu": {},
   "number_sections": true,
   "sideBar": true,
   "skip_h1_title": false,
   "title_cell": "Table of Contents",
   "title_sidebar": "Contents",
   "toc_cell": false,
   "toc_position": {},
   "toc_section_display": true,
   "toc_window_display": true
  }
 },
 "nbformat": 4,
 "nbformat_minor": 2
}
