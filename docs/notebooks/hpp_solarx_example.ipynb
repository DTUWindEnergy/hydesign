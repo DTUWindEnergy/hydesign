{
 "cells": [
  {
   "cell_type": "markdown",
   "id": "0",
   "metadata": {},
   "source": [
    "\n",
    "# SolarX example."
   ]
  },
  {
   "cell_type": "markdown",
   "id": "1",
   "metadata": {},
   "source": [
    "This notebook demostrate an example for evaluating a solarX project using `hydesign`'s `hpp_model_solarX` class.  \n",
    "\n",
    "It loads site data and simulation parameters, runs an evaluation, prints the design, and plots results."
   ]
  },
  {
   "cell_type": "markdown",
   "id": "2",
   "metadata": {},
   "source": [
    "## Introduction to SOLARX"
   ]
  },
  {
   "cell_type": "markdown",
   "id": "3",
   "metadata": {},
   "source": [
    "**SOLARX** is an integrated renewable energy concept that combines three advanced high-concentration solar technologies to maximize efficiency and flexibility. The system can simultaneously deliver electricity, heat, and green hydrogen, either directly or via storage, enabling carbon-neutral and even carbon-negative operation.\n",
    "\n",
    "Key innovations include:\n",
    "\n",
    "* Smart solar resource management aligned with demand and market prices.\n",
    "* High-efficiency concentrated photovoltaic (CPV) receivers.\n",
    "* Advanced concentrated solar thermal (CST) receivers for power and heat.\n",
    "* A carbon-negative bi-energy hydrogen receiver."
   ]
  },
  {
   "cell_type": "markdown",
   "id": "4",
   "metadata": {},
   "source": [
    "## Imports"
   ]
  },
  {
   "cell_type": "markdown",
   "id": "5",
   "metadata": {},
   "source": [
    "Install hydesign if needed."
   ]
  },
  {
   "cell_type": "code",
   "execution_count": null,
   "id": "6",
   "metadata": {},
   "outputs": [],
   "source": [
    "# Install hydesign if needed\n",
    "import importlib\n",
    "if not importlib.util.find_spec(\"hydesign\"):\n",
    "    !pip install git+https://gitlab.windenergy.dtu.dk/TOPFARM/hydesign.git   "
   ]
  },
  {
   "cell_type": "markdown",
   "id": "7",
   "metadata": {},
   "source": [
    "Import basic libraries."
   ]
  },
  {
   "cell_type": "code",
   "execution_count": null,
   "id": "8",
   "metadata": {},
   "outputs": [],
   "source": [
    "import os\n",
    "import time\n",
    "from hydesign.assembly.hpp_assembly_solarX import hpp_model_solarX as hpp_model\n",
    "from hydesign.examples import examples_filepath"
   ]
  },
  {
   "cell_type": "code",
   "execution_count": null,
   "id": "9",
   "metadata": {},
   "outputs": [],
   "source": [
    "# Enable inline plots in notebooks\n",
    "%matplotlib inline"
   ]
  },
  {
   "cell_type": "markdown",
   "id": "10",
   "metadata": {},
   "source": [
    "## Initialize model"
   ]
  },
  {
   "cell_type": "markdown",
   "id": "11",
   "metadata": {},
   "source": [
    "Site info"
   ]
  },
  {
   "cell_type": "code",
   "execution_count": null,
   "id": "12",
   "metadata": {},
   "outputs": [],
   "source": [
    "longitude = -6.03\n",
    "latitude = 37.380\n",
    "altitude = 10\n"
   ]
  },
  {
   "cell_type": "markdown",
   "id": "13",
   "metadata": {},
   "source": [
    "Input files"
   ]
  },
  {
   "cell_type": "code",
   "execution_count": null,
   "id": "14",
   "metadata": {},
   "outputs": [],
   "source": [
    "#time series\n",
    "input_ts_fn = os.path.join(examples_filepath, 'Europe/solarX_Spain.csv')\n",
    "\n",
    "# YAML simulation parameters\n",
    "sim_pars_fn = os.path.join(examples_filepath, 'Europe/hpp_pars_solarX.yml')"
   ]
  },
  {
   "cell_type": "markdown",
   "id": "15",
   "metadata": {},
   "source": [
    "Initialized an hpp model"
   ]
  },
  {
   "cell_type": "code",
   "execution_count": null,
   "id": "16",
   "metadata": {},
   "outputs": [],
   "source": [
    "batch_size = 1 * 24  # 3 months of hourly data per batch (example)\n",
    "hpp = hpp_model(\n",
    "    latitude=latitude, \n",
    "    longitude=longitude, \n",
    "    altitude=altitude,      # Geographical data\n",
    "    work_dir='./',                      # Output directory\n",
    "    sim_pars_fn=sim_pars_fn,            # Simulation parameters\n",
    "    input_ts_fn=input_ts_fn,            # Input time series\n",
    "    batch_size=batch_size,\n",
    "    tower_num=25,                     # Number of towers in the plant\n",
    ")\n",
    "print(\"Model initialized.\")\n"
   ]
  },
  {
   "cell_type": "markdown",
   "id": "17",
   "metadata": {},
   "source": [
    "\n",
    "## Run evaluation\n",
    "\n",
    "In this section, a single evaluation with the chosen sizing variables is performed."
   ]
  },
  {
   "cell_type": "markdown",
   "id": "18",
   "metadata": {},
   "source": [
    "Set Sizing variables"
   ]
  },
  {
   "cell_type": "code",
   "execution_count": null,
   "id": "19",
   "metadata": {},
   "outputs": [],
   "source": [
    "# Solar field (sf)\n",
    "sf_area = 8000\n",
    "tower_height = 50\n",
    "\n",
    "# Concentrated Photovoltaics (cpv)\n",
    "area_cpv_receiver_m2 = 4\n",
    "\n",
    "# Concentrated Solar Thermal (cst)\n",
    "heat_exchanger_capacity = 50\n",
    "p_rated_st = 15\n",
    "v_molten_salt_tank_m3 = 2300\n",
    "area_cst_receiver_m2 = 9\n",
    "\n",
    "# Biogas + H2 (set to 0 as in your script)\n",
    "area_dni_reactor_biogas_h2 = 0\n",
    "area_el_reactor_biogas_h2 = 0\n",
    "\n",
    "x = [\n",
    "    # sf\n",
    "    sf_area,\n",
    "    tower_height,\n",
    "    # cpv\n",
    "    area_cpv_receiver_m2,\n",
    "    # cst\n",
    "    heat_exchanger_capacity,\n",
    "    p_rated_st,\n",
    "    v_molten_salt_tank_m3,\n",
    "    area_cst_receiver_m2,\n",
    "    # biogas_h2\n",
    "    area_dni_reactor_biogas_h2,\n",
    "    area_el_reactor_biogas_h2,\n",
    "]\n"
   ]
  },
  {
   "cell_type": "markdown",
   "id": "20",
   "metadata": {},
   "source": [
    "Run EMS evaluation"
   ]
  },
  {
   "cell_type": "code",
   "execution_count": null,
   "id": "21",
   "metadata": {},
   "outputs": [],
   "source": [
    "print(\"Design vector x:\", x)\n",
    "\n",
    "start = time.time()\n",
    "outs = hpp.evaluate(*x)  # Run the model evaluation\n",
    "hpp.print_design()\n",
    "end = time.time()\n",
    "\n",
    "print(f'Execution time [min]:', round((end - start) / 60, 2))"
   ]
  },
  {
   "cell_type": "markdown",
   "id": "22",
   "metadata": {},
   "source": [
    "### Plotting"
   ]
  },
  {
   "cell_type": "code",
   "execution_count": null,
   "id": "23",
   "metadata": {},
   "outputs": [],
   "source": [
    "fig = hpp.plot_solarX_results(n_hours=7*24, index_hour_start=4344)  # `index_hour_start=4344` corresponds to **July 1** in an hourly series (0-indexed).\n"
   ]
  },
  {
   "cell_type": "code",
   "execution_count": null,
   "id": "24",
   "metadata": {},
   "outputs": [],
   "source": []
  }
 ],
 "metadata": {
  "language_info": {
   "codemirror_mode": {
    "name": "ipython",
    "version": 3
   },
   "file_extension": ".py",
   "mimetype": "text/x-python",
   "name": "python",
   "nbconvert_exporter": "python",
   "pygments_lexer": "ipython3"
  }
 },
 "nbformat": 4,
 "nbformat_minor": 5
}
